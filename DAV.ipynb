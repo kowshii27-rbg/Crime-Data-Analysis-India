{
  "nbformat": 4,
  "nbformat_minor": 0,
  "metadata": {
    "colab": {
      "provenance": [],
      "include_colab_link": true
    },
    "kernelspec": {
      "name": "python3",
      "display_name": "Python 3"
    },
    "language_info": {
      "name": "python"
    }
  },
  "cells": [
    {
      "cell_type": "markdown",
      "metadata": {
        "id": "view-in-github",
        "colab_type": "text"
      },
      "source": [
        "<a href=\"https://colab.research.google.com/github/kowshii27-rbg/Crime-Data-Analysis-India/blob/main/DAV.ipynb\" target=\"_parent\"><img src=\"https://colab.research.google.com/assets/colab-badge.svg\" alt=\"Open In Colab\"/></a>"
      ]
    },
    {
      "cell_type": "code",
      "execution_count": null,
      "metadata": {
        "id": "HCHQGVtsODAH"
      },
      "outputs": [],
      "source": [
        "import pandas as pd\n",
        "import numpy as np\n",
        "import matplotlib.pyplot as plt\n",
        "import seaborn as sns\n",
        "\n",
        "from sklearn.preprocessing import LabelEncoder, StandardScaler\n",
        "from sklearn.model_selection import train_test_split\n",
        "from sklearn.ensemble import RandomForestClassifier\n",
        "from sklearn.linear_model import LogisticRegression\n",
        "from sklearn.svm import SVC\n",
        "from sklearn.metrics import classification_report, confusion_matrix, accuracy_score\n"
      ]
    },
    {
      "cell_type": "code",
      "source": [
        "df = pd.read_csv('/content/drive/MyDrive/crime_dataset_india.csv')"
      ],
      "metadata": {
        "id": "dk9xJF1YOULn"
      },
      "execution_count": null,
      "outputs": []
    },
    {
      "cell_type": "code",
      "source": [
        "print(df.head())"
      ],
      "metadata": {
        "colab": {
          "base_uri": "https://localhost:8080/"
        },
        "id": "VX5gDTkQOyPZ",
        "outputId": "c32af48b-e5af-439c-dc1d-3056b00857e3"
      },
      "execution_count": null,
      "outputs": [
        {
          "output_type": "stream",
          "name": "stdout",
          "text": [
            "   Report Number     Date Reported Date of Occurrence Time of Occurrence  \\\n",
            "0              1  02-01-2020 00:00   01-01-2020 00:00   01-01-2020 01:11   \n",
            "1              2  01-01-2020 19:00   01-01-2020 01:00   01-01-2020 06:26   \n",
            "2              3  02-01-2020 05:00   01-01-2020 02:00   01-01-2020 14:30   \n",
            "3              4  01-01-2020 05:00   01-01-2020 03:00   01-01-2020 14:46   \n",
            "4              5  01-01-2020 21:00   01-01-2020 04:00   01-01-2020 16:51   \n",
            "\n",
            "        City  Crime Code Crime Description  Victim Age Victim Gender  \\\n",
            "0  Ahmedabad         576    IDENTITY THEFT          16             M   \n",
            "1    Chennai         128          HOMICIDE          37             M   \n",
            "2   Ludhiana         271        KIDNAPPING          48             F   \n",
            "3       Pune         170          BURGLARY          49             F   \n",
            "4       Pune         421         VANDALISM          30             F   \n",
            "\n",
            "    Weapon Used   Crime Domain  Police Deployed Case Closed  Date Case Closed  \n",
            "0  Blunt Object  Violent Crime               13          No               NaN  \n",
            "1        Poison    Other Crime                9          No               NaN  \n",
            "2  Blunt Object    Other Crime               15          No               NaN  \n",
            "3       Firearm    Other Crime                1         Yes  29-04-2020 05:00  \n",
            "4         Other    Other Crime               18         Yes  08-01-2020 21:00  \n"
          ]
        }
      ]
    },
    {
      "cell_type": "code",
      "source": [
        "print(df.info())"
      ],
      "metadata": {
        "colab": {
          "base_uri": "https://localhost:8080/"
        },
        "id": "r-hIUFgTO24B",
        "outputId": "c1887d5c-5279-40f8-b092-e6f014a238cd"
      },
      "execution_count": null,
      "outputs": [
        {
          "output_type": "stream",
          "name": "stdout",
          "text": [
            "<class 'pandas.core.frame.DataFrame'>\n",
            "RangeIndex: 40160 entries, 0 to 40159\n",
            "Data columns (total 14 columns):\n",
            " #   Column              Non-Null Count  Dtype \n",
            "---  ------              --------------  ----- \n",
            " 0   Report Number       40160 non-null  int64 \n",
            " 1   Date Reported       40160 non-null  object\n",
            " 2   Date of Occurrence  40160 non-null  object\n",
            " 3   Time of Occurrence  40160 non-null  object\n",
            " 4   City                40160 non-null  object\n",
            " 5   Crime Code          40160 non-null  int64 \n",
            " 6   Crime Description   40160 non-null  object\n",
            " 7   Victim Age          40160 non-null  int64 \n",
            " 8   Victim Gender       40160 non-null  object\n",
            " 9   Weapon Used         34370 non-null  object\n",
            " 10  Crime Domain        40160 non-null  object\n",
            " 11  Police Deployed     40160 non-null  int64 \n",
            " 12  Case Closed         40160 non-null  object\n",
            " 13  Date Case Closed    20062 non-null  object\n",
            "dtypes: int64(4), object(10)\n",
            "memory usage: 4.3+ MB\n",
            "None\n"
          ]
        }
      ]
    },
    {
      "cell_type": "code",
      "source": [
        "# Drop duplicates\n",
        "df.drop_duplicates(inplace=True)\n",
        "\n",
        "# Check and handle missing values\n",
        "print(df.isnull().sum())\n",
        "df.fillna(0, inplace=True)  # or use df.dropna()\n",
        "\n",
        "# Remove unnamed or irrelevant columns\n",
        "df = df.loc[:, ~df.columns.str.contains('^Unnamed')]\n"
      ],
      "metadata": {
        "colab": {
          "base_uri": "https://localhost:8080/"
        },
        "id": "SRyrJ0xiO-tt",
        "outputId": "30802b9f-b181-4da4-8067-cfbd3bce4d4c"
      },
      "execution_count": null,
      "outputs": [
        {
          "output_type": "stream",
          "name": "stdout",
          "text": [
            "Report Number             0\n",
            "Date Reported             0\n",
            "Date of Occurrence        0\n",
            "Time of Occurrence        0\n",
            "City                      0\n",
            "Crime Code                0\n",
            "Crime Description         0\n",
            "Victim Age                0\n",
            "Victim Gender             0\n",
            "Weapon Used            5790\n",
            "Crime Domain              0\n",
            "Police Deployed           0\n",
            "Case Closed               0\n",
            "Date Case Closed      20098\n",
            "dtype: int64\n"
          ]
        }
      ]
    },
    {
      "cell_type": "code",
      "source": [
        "# Convert categorical columns to numeric\n",
        "for col in df.select_dtypes(include='object').columns:\n",
        "    # Check if the column has mixed types\n",
        "    if df[col].apply(type).nunique() > 1:\n",
        "        # Convert all values to strings before applying Label Encoding\n",
        "        df[col] = df[col].astype(str)\n",
        "    df[col] = LabelEncoder().fit_transform(df[col])"
      ],
      "metadata": {
        "id": "Le-bTQkHRMHX"
      },
      "execution_count": null,
      "outputs": []
    },
    {
      "cell_type": "code",
      "source": [
        "# Assuming first 2-3 columns are 'State', 'Year' etc., and rest are crimes\n",
        "crime_cols = df.select_dtypes(include=np.number).columns.drop(['Year'], errors='ignore')\n",
        "\n",
        "# Create total crime column\n",
        "df['Total_Crime'] = df[crime_cols].sum(axis=1)\n",
        "\n",
        "# Create a binary target: High Crime (1) if above median\n",
        "df['Crime_Level'] = (df['Total_Crime'] > df['Total_Crime'].median()).astype(int)\n",
        "\n",
        "# Drop Total_Crime from features\n",
        "X = df.drop(columns=['Total_Crime', 'Crime_Level'])\n",
        "y = df['Crime_Level']\n",
        "print(df.head())\n",
        "print(df.info())\n"
      ],
      "metadata": {
        "id": "cIZY5XlRSAK6",
        "colab": {
          "base_uri": "https://localhost:8080/"
        },
        "outputId": "efaa2bfa-ddd2-4422-86ab-ab0d05bf41b2"
      },
      "execution_count": null,
      "outputs": [
        {
          "output_type": "stream",
          "name": "stdout",
          "text": [
            "   Report Number  Date Reported  Date of Occurrence  Time of Occurrence  City  \\\n",
            "0              1            836                   0                   0     1   \n",
            "1              2              2                   1                   1     4   \n",
            "2              3            838                   2                   3    15   \n",
            "3              4              0                   3                   4    21   \n",
            "4              5              3                   4                   5    21   \n",
            "\n",
            "   Crime Code  Crime Description  Victim Age  Victim Gender  Weapon Used  \\\n",
            "0         576                 11          16              1            1   \n",
            "1         128                 10          37              1            6   \n",
            "2         271                 13          48              0            1   \n",
            "3         170                  2          49              0            3   \n",
            "4         421                 19          30              0            5   \n",
            "\n",
            "   Crime Domain  Police Deployed  Case Closed  Date Case Closed  Total_Crime  \\\n",
            "0             3               13            0                 0         1459   \n",
            "1             1                9            0                 0          202   \n",
            "2             1               15            0                 0         1210   \n",
            "3             1                1            1             14809        15068   \n",
            "4             1               18            1              3646         4179   \n",
            "\n",
            "   Crime_Level  \n",
            "0            0  \n",
            "1            0  \n",
            "2            0  \n",
            "3            0  \n",
            "4            0  \n",
            "<class 'pandas.core.frame.DataFrame'>\n",
            "RangeIndex: 40160 entries, 0 to 40159\n",
            "Data columns (total 16 columns):\n",
            " #   Column              Non-Null Count  Dtype\n",
            "---  ------              --------------  -----\n",
            " 0   Report Number       40160 non-null  int64\n",
            " 1   Date Reported       40160 non-null  int64\n",
            " 2   Date of Occurrence  40160 non-null  int64\n",
            " 3   Time of Occurrence  40160 non-null  int64\n",
            " 4   City                40160 non-null  int64\n",
            " 5   Crime Code          40160 non-null  int64\n",
            " 6   Crime Description   40160 non-null  int64\n",
            " 7   Victim Age          40160 non-null  int64\n",
            " 8   Victim Gender       40160 non-null  int64\n",
            " 9   Weapon Used         40160 non-null  int64\n",
            " 10  Crime Domain        40160 non-null  int64\n",
            " 11  Police Deployed     40160 non-null  int64\n",
            " 12  Case Closed         40160 non-null  int64\n",
            " 13  Date Case Closed    40160 non-null  int64\n",
            " 14  Total_Crime         40160 non-null  int64\n",
            " 15  Crime_Level         40160 non-null  int64\n",
            "dtypes: int64(16)\n",
            "memory usage: 4.9 MB\n",
            "None\n"
          ]
        }
      ]
    },
    {
      "cell_type": "code",
      "source": [
        "X_train, X_test, y_train, y_test = train_test_split(\n",
        "    X, y, test_size=0.2, random_state=42)\n",
        "\n",
        "scaler = StandardScaler()\n",
        "X_train_scaled = scaler.fit_transform(X_train)\n",
        "X_test_scaled = scaler.transform(X_test)\n"
      ],
      "metadata": {
        "id": "Dm8NLy6BSEfU"
      },
      "execution_count": null,
      "outputs": []
    },
    {
      "cell_type": "markdown",
      "source": [
        "Model training and Prediction"
      ],
      "metadata": {
        "id": "Ra_M7XNmTAO9"
      }
    },
    {
      "cell_type": "markdown",
      "source": [
        "RandomForestClassifier"
      ],
      "metadata": {
        "id": "J_kIXgd3fUiD"
      }
    },
    {
      "cell_type": "code",
      "source": [
        "model = RandomForestClassifier(n_estimators=100, random_state=42)\n",
        "model.fit(X_train_scaled, y_train)\n",
        "y_pred = model.predict(X_test_scaled)"
      ],
      "metadata": {
        "id": "NWZq5B3uSHtN"
      },
      "execution_count": null,
      "outputs": []
    },
    {
      "cell_type": "markdown",
      "source": [
        "Evaluation Metrics and Confusion Matrix"
      ],
      "metadata": {
        "id": "yL3nYwCAS1UG"
      }
    },
    {
      "cell_type": "code",
      "source": [
        "print(\"Confusion Matrix:\\n\", confusion_matrix(y_test, y_pred))\n",
        "print(\"\\nClassification Report:\\n\", classification_report(y_test, y_pred))\n",
        "print(\"\\nAccuracy Score:\", accuracy_score(y_test, y_pred))"
      ],
      "metadata": {
        "colab": {
          "base_uri": "https://localhost:8080/"
        },
        "id": "WVdtgwazSS42",
        "outputId": "1f5e798d-6215-46ae-a155-0fb512add7cc"
      },
      "execution_count": null,
      "outputs": [
        {
          "output_type": "stream",
          "name": "stdout",
          "text": [
            "Confusion Matrix:\n",
            " [[3993   53]\n",
            " [  66 3920]]\n",
            "\n",
            "Classification Report:\n",
            "               precision    recall  f1-score   support\n",
            "\n",
            "           0       0.98      0.99      0.99      4046\n",
            "           1       0.99      0.98      0.99      3986\n",
            "\n",
            "    accuracy                           0.99      8032\n",
            "   macro avg       0.99      0.99      0.99      8032\n",
            "weighted avg       0.99      0.99      0.99      8032\n",
            "\n",
            "\n",
            "Accuracy Score: 0.9851842629482072\n"
          ]
        }
      ]
    },
    {
      "cell_type": "markdown",
      "source": [
        "LogisticRegression"
      ],
      "metadata": {
        "id": "zp46MC1KfPjW"
      }
    },
    {
      "cell_type": "code",
      "source": [
        "logreg = LogisticRegression(max_iter=1000, random_state=42)"
      ],
      "metadata": {
        "id": "vhfsWqthdECR"
      },
      "execution_count": null,
      "outputs": []
    },
    {
      "cell_type": "code",
      "source": [
        "# Train the model\n",
        "logreg.fit(X_train_scaled, y_train)\n",
        "# Predict on test set\n",
        "y_pred_logreg = logreg.predict(X_test_scaled)\n",
        "\n",
        "# Evaluation metrics\n",
        "conf_matrix = confusion_matrix(y_test, y_pred_logreg)\n",
        "class_report = classification_report(y_test, y_pred_logreg)\n",
        "accuracy = accuracy_score(y_test, y_pred_logreg)\n"
      ],
      "metadata": {
        "id": "mQSo0ZipdHpP"
      },
      "execution_count": null,
      "outputs": []
    },
    {
      "cell_type": "code",
      "source": [
        "# Print results\n",
        "print(\"Logistic Regression Evaluation:\")\n",
        "print(\"\\nConfusion Matrix:\\n\", conf_matrix)\n",
        "print(\"\\nClassification Report:\\n\", class_report)\n",
        "print(\"\\nAccuracy Score:\", accuracy)"
      ],
      "metadata": {
        "colab": {
          "base_uri": "https://localhost:8080/"
        },
        "id": "7ov412lEdKRd",
        "outputId": "d57f88b9-28fe-49f4-95d9-6fc5bf407d84"
      },
      "execution_count": null,
      "outputs": [
        {
          "output_type": "stream",
          "name": "stdout",
          "text": [
            "Logistic Regression Evaluation:\n",
            "\n",
            "Confusion Matrix:\n",
            " [[4039    7]\n",
            " [   0 3986]]\n",
            "\n",
            "Classification Report:\n",
            "               precision    recall  f1-score   support\n",
            "\n",
            "           0       1.00      1.00      1.00      4046\n",
            "           1       1.00      1.00      1.00      3986\n",
            "\n",
            "    accuracy                           1.00      8032\n",
            "   macro avg       1.00      1.00      1.00      8032\n",
            "weighted avg       1.00      1.00      1.00      8032\n",
            "\n",
            "\n",
            "Accuracy Score: 0.9991284860557769\n"
          ]
        }
      ]
    },
    {
      "cell_type": "markdown",
      "source": [
        "SVM"
      ],
      "metadata": {
        "id": "sWoSi6jZfLeu"
      }
    },
    {
      "cell_type": "code",
      "source": [
        "# Initialize SVM model\n",
        "svm_model = SVC(kernel='rbf', random_state=42)\n",
        "\n",
        "# Train the model\n",
        "svm_model.fit(X_train_scaled, y_train)\n",
        "\n",
        "# Predict on test set\n",
        "y_pred_svm = svm_model.predict(X_test_scaled)"
      ],
      "metadata": {
        "id": "vcTQGNyMdORZ"
      },
      "execution_count": null,
      "outputs": []
    },
    {
      "cell_type": "code",
      "source": [
        "# Evaluation metrics\n",
        "conf_matrix_svm = confusion_matrix(y_test, y_pred)\n",
        "class_report_svm = classification_report(y_test, y_pred)\n",
        "accuracy_svm = accuracy_score(y_test, y_pred)\n"
      ],
      "metadata": {
        "id": "Cyqnpzsoe5SU"
      },
      "execution_count": null,
      "outputs": []
    },
    {
      "cell_type": "code",
      "source": [
        "# Print results\n",
        "print(\"Support Vector Machine (SVM) Evaluation:\")\n",
        "print(\"\\nConfusion Matrix:\\n\", conf_matrix_svm)\n",
        "print(\"\\nClassification Report:\\n\", class_report_svm)\n",
        "print(\"\\nAccuracy Score:\", accuracy_svm)\n"
      ],
      "metadata": {
        "colab": {
          "base_uri": "https://localhost:8080/"
        },
        "id": "4M1CGfUWe_sM",
        "outputId": "aba2e9ff-fb02-42c4-a1d2-5dd653e948fc"
      },
      "execution_count": null,
      "outputs": [
        {
          "output_type": "stream",
          "name": "stdout",
          "text": [
            "Support Vector Machine (SVM) Evaluation:\n",
            "\n",
            "Confusion Matrix:\n",
            " [[3993   53]\n",
            " [  66 3920]]\n",
            "\n",
            "Classification Report:\n",
            "               precision    recall  f1-score   support\n",
            "\n",
            "           0       0.98      0.99      0.99      4046\n",
            "           1       0.99      0.98      0.99      3986\n",
            "\n",
            "    accuracy                           0.99      8032\n",
            "   macro avg       0.99      0.99      0.99      8032\n",
            "weighted avg       0.99      0.99      0.99      8032\n",
            "\n",
            "\n",
            "Accuracy Score: 0.9851842629482072\n"
          ]
        }
      ]
    }
  ]
}